{
  "nbformat": 4,
  "nbformat_minor": 0,
  "metadata": {
    "colab": {
      "provenance": [],
      "authorship_tag": "ABX9TyM/+jHcV4ipkMPVkNr8RWf1",
      "include_colab_link": true
    },
    "kernelspec": {
      "name": "python3",
      "display_name": "Python 3"
    },
    "language_info": {
      "name": "python"
    }
  },
  "cells": [
    {
      "cell_type": "markdown",
      "metadata": {
        "id": "view-in-github",
        "colab_type": "text"
      },
      "source": [
        "<a href=\"https://colab.research.google.com/github/aniket-alt/apache-beam/blob/main/Apache_Beam.ipynb\" target=\"_parent\"><img src=\"https://colab.research.google.com/assets/colab-badge.svg\" alt=\"Open In Colab\"/></a>"
      ]
    },
    {
      "cell_type": "code",
      "execution_count": 1,
      "metadata": {
        "id": "uS1CcaZ0G3Ut",
        "colab": {
          "base_uri": "https://localhost:8080/",
          "height": 1000
        },
        "outputId": "93fddf5f-4be3-45c2-b6d4-67766e783bf6"
      },
      "outputs": [
        {
          "output_type": "stream",
          "name": "stdout",
          "text": [
            "Collecting apache-beam\n",
            "  Downloading apache_beam-2.69.0-cp312-cp312-manylinux_2_17_x86_64.manylinux2014_x86_64.whl.metadata (21 kB)\n",
            "Collecting crcmod<2.0,>=1.7 (from apache-beam)\n",
            "  Downloading crcmod-1.7.tar.gz (89 kB)\n",
            "\u001b[2K     \u001b[90m━━━━━━━━━━━━━━━━━━━━━━━━━━━━━━━━━━━━━━━━\u001b[0m \u001b[32m89.7/89.7 kB\u001b[0m \u001b[31m3.1 MB/s\u001b[0m eta \u001b[36m0:00:00\u001b[0m\n",
            "\u001b[?25h  Preparing metadata (setup.py) ... \u001b[?25l\u001b[?25hdone\n",
            "Requirement already satisfied: cryptography<48.0.0,>=39.0.0 in /usr/local/lib/python3.12/dist-packages (from apache-beam) (43.0.3)\n",
            "Requirement already satisfied: orjson<4,>=3.9.7 in /usr/local/lib/python3.12/dist-packages (from apache-beam) (3.11.4)\n",
            "Collecting fastavro<2,>=0.23.6 (from apache-beam)\n",
            "  Downloading fastavro-1.12.1-cp312-cp312-manylinux2014_x86_64.manylinux_2_17_x86_64.manylinux_2_28_x86_64.whl.metadata (5.8 kB)\n",
            "Collecting fasteners<1.0,>=0.3 (from apache-beam)\n",
            "  Downloading fasteners-0.20-py3-none-any.whl.metadata (4.8 kB)\n",
            "Collecting grpcio!=1.48.0,!=1.59.*,!=1.60.*,!=1.61.*,!=1.62.0,!=1.62.1,<1.66.0,<2,>=1.33.1 (from apache-beam)\n",
            "  Downloading grpcio-1.65.5-cp312-cp312-manylinux_2_17_x86_64.manylinux2014_x86_64.whl.metadata (3.3 kB)\n",
            "Collecting hdfs<3.0.0,>=2.1.0 (from apache-beam)\n",
            "  Downloading hdfs-2.7.3.tar.gz (43 kB)\n",
            "\u001b[2K     \u001b[90m━━━━━━━━━━━━━━━━━━━━━━━━━━━━━━━━━━━━━━━━\u001b[0m \u001b[32m43.5/43.5 kB\u001b[0m \u001b[31m3.1 MB/s\u001b[0m eta \u001b[36m0:00:00\u001b[0m\n",
            "\u001b[?25h  Preparing metadata (setup.py) ... \u001b[?25l\u001b[?25hdone\n",
            "Collecting httplib2<0.23.0,>=0.8 (from apache-beam)\n",
            "  Downloading httplib2-0.22.0-py3-none-any.whl.metadata (2.6 kB)\n",
            "Requirement already satisfied: jsonschema<5.0.0,>=4.0.0 in /usr/local/lib/python3.12/dist-packages (from apache-beam) (4.25.1)\n",
            "Collecting jsonpickle<4.0.0,>=3.0.0 (from apache-beam)\n",
            "  Downloading jsonpickle-3.4.2-py3-none-any.whl.metadata (8.1 kB)\n",
            "Requirement already satisfied: numpy<2.3.0,>=1.14.3 in /usr/local/lib/python3.12/dist-packages (from apache-beam) (2.0.2)\n",
            "Collecting objsize<0.8.0,>=0.6.1 (from apache-beam)\n",
            "  Downloading objsize-0.7.1-py3-none-any.whl.metadata (12 kB)\n",
            "Requirement already satisfied: packaging>=22.0 in /usr/local/lib/python3.12/dist-packages (from apache-beam) (25.0)\n",
            "Collecting pymongo<5.0.0,>=3.8.0 (from apache-beam)\n",
            "  Downloading pymongo-4.15.3-cp312-cp312-manylinux2014_x86_64.manylinux_2_17_x86_64.manylinux_2_28_x86_64.whl.metadata (22 kB)\n",
            "Requirement already satisfied: proto-plus<2,>=1.7.1 in /usr/local/lib/python3.12/dist-packages (from apache-beam) (1.26.1)\n",
            "Requirement already satisfied: protobuf!=4.0.*,!=4.21.*,!=4.22.0,!=4.23.*,!=4.24.*,<7.0.0.dev0,>=3.20.3 in /usr/local/lib/python3.12/dist-packages (from apache-beam) (5.29.5)\n",
            "Collecting pydot<2,>=1.2.0 (from apache-beam)\n",
            "  Downloading pydot-1.4.2-py2.py3-none-any.whl.metadata (8.0 kB)\n",
            "Requirement already satisfied: python-dateutil<3,>=2.8.0 in /usr/local/lib/python3.12/dist-packages (from apache-beam) (2.9.0.post0)\n",
            "Requirement already satisfied: pytz>=2018.3 in /usr/local/lib/python3.12/dist-packages (from apache-beam) (2025.2)\n",
            "Collecting redis<6,>=5.0.0 (from apache-beam)\n",
            "  Downloading redis-5.3.1-py3-none-any.whl.metadata (9.2 kB)\n",
            "Requirement already satisfied: regex>=2020.6.8 in /usr/local/lib/python3.12/dist-packages (from apache-beam) (2024.11.6)\n",
            "Requirement already satisfied: requests<3.0.0,>=2.32.4 in /usr/local/lib/python3.12/dist-packages (from apache-beam) (2.32.4)\n",
            "Requirement already satisfied: sortedcontainers>=2.4.0 in /usr/local/lib/python3.12/dist-packages (from apache-beam) (2.4.0)\n",
            "Requirement already satisfied: typing-extensions>=3.7.0 in /usr/local/lib/python3.12/dist-packages (from apache-beam) (4.15.0)\n",
            "Requirement already satisfied: zstandard<1,>=0.18.0 in /usr/local/lib/python3.12/dist-packages (from apache-beam) (0.25.0)\n",
            "Requirement already satisfied: pyyaml<7.0.0,>=3.12 in /usr/local/lib/python3.12/dist-packages (from apache-beam) (6.0.3)\n",
            "Collecting beartype<0.22.0,>=0.21.0 (from apache-beam)\n",
            "  Downloading beartype-0.21.0-py3-none-any.whl.metadata (33 kB)\n",
            "Requirement already satisfied: pyarrow<19.0.0,>=3.0.0 in /usr/local/lib/python3.12/dist-packages (from apache-beam) (18.1.0)\n",
            "Collecting pyarrow-hotfix<1 (from apache-beam)\n",
            "  Downloading pyarrow_hotfix-0.7-py3-none-any.whl.metadata (3.6 kB)\n",
            "Requirement already satisfied: cffi>=1.12 in /usr/local/lib/python3.12/dist-packages (from cryptography<48.0.0,>=39.0.0->apache-beam) (2.0.0)\n",
            "Collecting docopt (from hdfs<3.0.0,>=2.1.0->apache-beam)\n",
            "  Downloading docopt-0.6.2.tar.gz (25 kB)\n",
            "  Preparing metadata (setup.py) ... \u001b[?25l\u001b[?25hdone\n",
            "Requirement already satisfied: six>=1.9.0 in /usr/local/lib/python3.12/dist-packages (from hdfs<3.0.0,>=2.1.0->apache-beam) (1.17.0)\n",
            "Requirement already satisfied: pyparsing!=3.0.0,!=3.0.1,!=3.0.2,!=3.0.3,<4,>=2.4.2 in /usr/local/lib/python3.12/dist-packages (from httplib2<0.23.0,>=0.8->apache-beam) (3.2.5)\n",
            "Requirement already satisfied: attrs>=22.2.0 in /usr/local/lib/python3.12/dist-packages (from jsonschema<5.0.0,>=4.0.0->apache-beam) (25.4.0)\n",
            "Requirement already satisfied: jsonschema-specifications>=2023.03.6 in /usr/local/lib/python3.12/dist-packages (from jsonschema<5.0.0,>=4.0.0->apache-beam) (2025.9.1)\n",
            "Requirement already satisfied: referencing>=0.28.4 in /usr/local/lib/python3.12/dist-packages (from jsonschema<5.0.0,>=4.0.0->apache-beam) (0.37.0)\n",
            "Requirement already satisfied: rpds-py>=0.7.1 in /usr/local/lib/python3.12/dist-packages (from jsonschema<5.0.0,>=4.0.0->apache-beam) (0.28.0)\n",
            "Collecting dnspython<3.0.0,>=1.16.0 (from pymongo<5.0.0,>=3.8.0->apache-beam)\n",
            "  Downloading dnspython-2.8.0-py3-none-any.whl.metadata (5.7 kB)\n",
            "Requirement already satisfied: PyJWT>=2.9.0 in /usr/local/lib/python3.12/dist-packages (from redis<6,>=5.0.0->apache-beam) (2.10.1)\n",
            "Requirement already satisfied: charset_normalizer<4,>=2 in /usr/local/lib/python3.12/dist-packages (from requests<3.0.0,>=2.32.4->apache-beam) (3.4.4)\n",
            "Requirement already satisfied: idna<4,>=2.5 in /usr/local/lib/python3.12/dist-packages (from requests<3.0.0,>=2.32.4->apache-beam) (3.11)\n",
            "Requirement already satisfied: urllib3<3,>=1.21.1 in /usr/local/lib/python3.12/dist-packages (from requests<3.0.0,>=2.32.4->apache-beam) (2.5.0)\n",
            "Requirement already satisfied: certifi>=2017.4.17 in /usr/local/lib/python3.12/dist-packages (from requests<3.0.0,>=2.32.4->apache-beam) (2025.10.5)\n",
            "Requirement already satisfied: pycparser in /usr/local/lib/python3.12/dist-packages (from cffi>=1.12->cryptography<48.0.0,>=39.0.0->apache-beam) (2.23)\n",
            "Downloading apache_beam-2.69.0-cp312-cp312-manylinux_2_17_x86_64.manylinux2014_x86_64.whl (17.2 MB)\n",
            "\u001b[2K   \u001b[90m━━━━━━━━━━━━━━━━━━━━━━━━━━━━━━━━━━━━━━━━\u001b[0m \u001b[32m17.2/17.2 MB\u001b[0m \u001b[31m90.4 MB/s\u001b[0m eta \u001b[36m0:00:00\u001b[0m\n",
            "\u001b[?25hDownloading beartype-0.21.0-py3-none-any.whl (1.2 MB)\n",
            "\u001b[2K   \u001b[90m━━━━━━━━━━━━━━━━━━━━━━━━━━━━━━━━━━━━━━━━\u001b[0m \u001b[32m1.2/1.2 MB\u001b[0m \u001b[31m59.7 MB/s\u001b[0m eta \u001b[36m0:00:00\u001b[0m\n",
            "\u001b[?25hDownloading fastavro-1.12.1-cp312-cp312-manylinux2014_x86_64.manylinux_2_17_x86_64.manylinux_2_28_x86_64.whl (3.5 MB)\n",
            "\u001b[2K   \u001b[90m━━━━━━━━━━━━━━━━━━━━━━━━━━━━━━━━━━━━━━━━\u001b[0m \u001b[32m3.5/3.5 MB\u001b[0m \u001b[31m98.3 MB/s\u001b[0m eta \u001b[36m0:00:00\u001b[0m\n",
            "\u001b[?25hDownloading fasteners-0.20-py3-none-any.whl (18 kB)\n",
            "Downloading grpcio-1.65.5-cp312-cp312-manylinux_2_17_x86_64.manylinux2014_x86_64.whl (5.6 MB)\n",
            "\u001b[2K   \u001b[90m━━━━━━━━━━━━━━━━━━━━━━━━━━━━━━━━━━━━━━━━\u001b[0m \u001b[32m5.6/5.6 MB\u001b[0m \u001b[31m100.9 MB/s\u001b[0m eta \u001b[36m0:00:00\u001b[0m\n",
            "\u001b[?25hDownloading httplib2-0.22.0-py3-none-any.whl (96 kB)\n",
            "\u001b[2K   \u001b[90m━━━━━━━━━━━━━━━━━━━━━━━━━━━━━━━━━━━━━━━━\u001b[0m \u001b[32m96.9/96.9 kB\u001b[0m \u001b[31m6.1 MB/s\u001b[0m eta \u001b[36m0:00:00\u001b[0m\n",
            "\u001b[?25hDownloading jsonpickle-3.4.2-py3-none-any.whl (46 kB)\n",
            "\u001b[2K   \u001b[90m━━━━━━━━━━━━━━━━━━━━━━━━━━━━━━━━━━━━━━━━\u001b[0m \u001b[32m46.3/46.3 kB\u001b[0m \u001b[31m2.4 MB/s\u001b[0m eta \u001b[36m0:00:00\u001b[0m\n",
            "\u001b[?25hDownloading objsize-0.7.1-py3-none-any.whl (11 kB)\n",
            "Downloading pyarrow_hotfix-0.7-py3-none-any.whl (7.9 kB)\n",
            "Downloading pydot-1.4.2-py2.py3-none-any.whl (21 kB)\n",
            "Downloading pymongo-4.15.3-cp312-cp312-manylinux2014_x86_64.manylinux_2_17_x86_64.manylinux_2_28_x86_64.whl (1.7 MB)\n",
            "\u001b[2K   \u001b[90m━━━━━━━━━━━━━━━━━━━━━━━━━━━━━━━━━━━━━━━━\u001b[0m \u001b[32m1.7/1.7 MB\u001b[0m \u001b[31m27.8 MB/s\u001b[0m eta \u001b[36m0:00:00\u001b[0m\n",
            "\u001b[?25hDownloading redis-5.3.1-py3-none-any.whl (272 kB)\n",
            "\u001b[2K   \u001b[90m━━━━━━━━━━━━━━━━━━━━━━━━━━━━━━━━━━━━━━━━\u001b[0m \u001b[32m272.8/272.8 kB\u001b[0m \u001b[31m12.8 MB/s\u001b[0m eta \u001b[36m0:00:00\u001b[0m\n",
            "\u001b[?25hDownloading dnspython-2.8.0-py3-none-any.whl (331 kB)\n",
            "\u001b[2K   \u001b[90m━━━━━━━━━━━━━━━━━━━━━━━━━━━━━━━━━━━━━━━━\u001b[0m \u001b[32m331.1/331.1 kB\u001b[0m \u001b[31m8.3 MB/s\u001b[0m eta \u001b[36m0:00:00\u001b[0m\n",
            "\u001b[?25hBuilding wheels for collected packages: crcmod, hdfs, docopt\n",
            "  Building wheel for crcmod (setup.py) ... \u001b[?25l\u001b[?25hdone\n",
            "  Created wheel for crcmod: filename=crcmod-1.7-cp312-cp312-linux_x86_64.whl size=31832 sha256=defe0054c421627a01438bd3dd2beb403bde42f13d3cd9020c8656b22b1be100\n",
            "  Stored in directory: /root/.cache/pip/wheels/76/08/0b/caa8b1380122cbfe6a03eaccbec0f63c67e619af4e30ca5e2a\n",
            "  Building wheel for hdfs (setup.py) ... \u001b[?25l\u001b[?25hdone\n",
            "  Created wheel for hdfs: filename=hdfs-2.7.3-py3-none-any.whl size=34324 sha256=db9727ddfefc791aa472c1695c6b6280962a43ccb7fdf28f818d8ff8e2565dc7\n",
            "  Stored in directory: /root/.cache/pip/wheels/97/ae/d9/536505928dd3a458b206013b02625df8f12d22fa154f2bfd65\n",
            "  Building wheel for docopt (setup.py) ... \u001b[?25l\u001b[?25hdone\n",
            "  Created wheel for docopt: filename=docopt-0.6.2-py2.py3-none-any.whl size=13706 sha256=3a7a69e844b3ad77e8a9ca081a38aedca6e3cc6d05e9f884762411998af03487\n",
            "  Stored in directory: /root/.cache/pip/wheels/1a/bf/a1/4cee4f7678c68c5875ca89eaccf460593539805c3906722228\n",
            "Successfully built crcmod hdfs docopt\n",
            "Installing collected packages: docopt, crcmod, redis, pydot, pyarrow-hotfix, objsize, jsonpickle, httplib2, grpcio, fasteners, fastavro, dnspython, beartype, pymongo, hdfs, apache-beam\n",
            "  Attempting uninstall: pydot\n",
            "    Found existing installation: pydot 3.0.4\n",
            "    Uninstalling pydot-3.0.4:\n",
            "      Successfully uninstalled pydot-3.0.4\n",
            "  Attempting uninstall: jsonpickle\n",
            "    Found existing installation: jsonpickle 4.1.1\n",
            "    Uninstalling jsonpickle-4.1.1:\n",
            "      Successfully uninstalled jsonpickle-4.1.1\n",
            "  Attempting uninstall: httplib2\n",
            "    Found existing installation: httplib2 0.31.0\n",
            "    Uninstalling httplib2-0.31.0:\n",
            "      Successfully uninstalled httplib2-0.31.0\n",
            "  Attempting uninstall: grpcio\n",
            "    Found existing installation: grpcio 1.76.0\n",
            "    Uninstalling grpcio-1.76.0:\n",
            "      Successfully uninstalled grpcio-1.76.0\n",
            "  Attempting uninstall: beartype\n",
            "    Found existing installation: beartype 0.22.4\n",
            "    Uninstalling beartype-0.22.4:\n",
            "      Successfully uninstalled beartype-0.22.4\n",
            "\u001b[31mERROR: pip's dependency resolver does not currently take into account all the packages that are installed. This behaviour is the source of the following dependency conflicts.\n",
            "grpcio-status 1.71.2 requires grpcio>=1.71.2, but you have grpcio 1.65.5 which is incompatible.\u001b[0m\u001b[31m\n",
            "\u001b[0mSuccessfully installed apache-beam-2.69.0 beartype-0.21.0 crcmod-1.7 dnspython-2.8.0 docopt-0.6.2 fastavro-1.12.1 fasteners-0.20 grpcio-1.65.5 hdfs-2.7.3 httplib2-0.22.0 jsonpickle-3.4.2 objsize-0.7.1 pyarrow-hotfix-0.7 pydot-1.4.2 pymongo-4.15.3 redis-5.3.1\n"
          ]
        },
        {
          "output_type": "display_data",
          "data": {
            "application/vnd.colab-display-data+json": {
              "pip_warning": {
                "packages": [
                  "httplib2"
                ]
              },
              "id": "a2ec3c78f5eb4cb79d37af658e539de3"
            }
          },
          "metadata": {}
        }
      ],
      "source": [
        "# 1: Setup\n",
        "!pip install apache-beam"
      ]
    },
    {
      "cell_type": "code",
      "source": [
        "# 2: Imports\n",
        "import apache_beam as beam\n",
        "from apache_beam.options.pipeline_options import PipelineOptions\n",
        "import time\n",
        "import re # We'll use this for parsing\n",
        "from apache_beam.transforms.window import FixedWindows"
      ],
      "metadata": {
        "id": "izElSEBVJiqb"
      },
      "execution_count": 1,
      "outputs": []
    },
    {
      "cell_type": "code",
      "source": [
        "# 3: Sample Data and Pipeline\n",
        "# Get a fake \"current time\" to base our timestamps on\n",
        "# In a real stream, these would be generated live\n",
        "START_TIME = int(time.time())\n",
        "\n",
        "# Our sample data: (timestamp, event_type, player_id, damage)\n",
        "# We'll use simple CSV strings\n",
        "RAW_DATA = [\n",
        "    f\"{START_TIME + 1},pvp,player_1,15\",\n",
        "    f\"{START_TIME + 2},pvm,player_2,50\",\n",
        "    f\"{START_TIME + 4},pvp,player_3,75\",\n",
        "    f\"{START_TIME + 8},pvm,player_1,25\",\n",
        "    f\"{START_TIME + 11},pvp,player_2,150\", # This will be in window 2\n",
        "    f\"{START_TIME + 13},pvm,player_3,10\",  # This will be in window 2\n",
        "    f\"{START_TIME + 15},invalid_log,error,999\", # An error to be filtered\n",
        "    f\"{START_TIME + 17},pvp,player_1,30\",  # This will be in window 2\n",
        "]\n",
        "\n",
        "# Set up the pipeline\n",
        "options = PipelineOptions()\n",
        "pipeline = beam.Pipeline(options=options)"
      ],
      "metadata": {
        "id": "vbse714GJm5H"
      },
      "execution_count": 2,
      "outputs": []
    },
    {
      "cell_type": "code",
      "source": [
        "# 4: Our Composite Transform\n",
        "class ParseLogFn(beam.DoFn):\n",
        "    def process(self, element, *args, **kwargs):\n",
        "        try:\n",
        "            timestamp_str, event_type, player_id, damage_str = element.split(',')\n",
        "            # Add the timestamp to the element for windowing\n",
        "            # This is how Beam knows \"when\" the event happened\n",
        "            yield beam.transforms.window.TimestampedValue(\n",
        "                {\n",
        "                    \"event_type\": event_type,\n",
        "                    \"player_id\": player_id,\n",
        "                    \"damage\": int(damage_str)\n",
        "                },\n",
        "                int(timestamp_str) # The event's \"event time\"\n",
        "            )\n",
        "        except:\n",
        "            # Bad log, just drop it\n",
        "            pass # ParDo lets us filter by simply not yielding\n",
        "\n",
        "class ParseAndFilterLogs(beam.PTransform):\n",
        "    \"\"\"A composite transform to parse and filter game logs.\"\"\"\n",
        "    def expand(self, pcoll):\n",
        "        # We use ParDo to parse (1-to-1, or 1-to-0 if it fails)\n",
        "        parsed = pcoll | \"Parse\" >> beam.ParDo(ParseLogFn())\n",
        "\n",
        "        # We use Filter to remove any other invalid types\n",
        "        # Here we'll filter out any \"non-game\" events\n",
        "        filtered = parsed | \"FilterInvalid\" >> beam.Filter(\n",
        "            lambda log: log['event_type'] in ('pvp', 'pvm')\n",
        "        )\n",
        "        return filtered"
      ],
      "metadata": {
        "id": "6-zif_l7JzRb"
      },
      "execution_count": 3,
      "outputs": []
    },
    {
      "cell_type": "code",
      "source": [
        "# Cell 5: Apply the Transforms in the Pipeline\n",
        "# 1. Apply our Composite Transform\n",
        "clean_logs = (\n",
        "    pipeline\n",
        "    | \"CreateData\" >> beam.Create(RAW_DATA) # Pipeline IO (Input)\n",
        "    | \"ParseAndFilter\" >> ParseAndFilterLogs()\n",
        ")\n",
        "\n",
        "# 2. Apply Partition\n",
        "def partition_fn(log, num_partitions):\n",
        "    if log['event_type'] == 'pvp':\n",
        "        return 0  # Partition 0\n",
        "    else:\n",
        "        return 1  # Partition 1\n",
        "\n",
        "# This splits 'clean_logs' into two PCollections\n",
        "partitioned_logs = clean_logs | \"PartitionEvents\" >> beam.Partition(partition_fn, 2)\n",
        "\n",
        "pvp_logs = partitioned_logs[0]\n",
        "pvm_logs = partitioned_logs[1]"
      ],
      "metadata": {
        "id": "s682vg97Khs1",
        "colab": {
          "base_uri": "https://localhost:8080/",
          "height": 72
        },
        "outputId": "4dab2181-5e6e-43d1-fa8b-29f1585126ae"
      },
      "execution_count": 4,
      "outputs": [
        {
          "output_type": "stream",
          "name": "stderr",
          "text": [
            "WARNING:apache_beam.runners.interactive.interactive_environment:Dependencies required for Interactive Beam PCollection visualization are not available, please use: `pip install apache-beam[interactive]` to install necessary dependencies to enable all data visualization features.\n"
          ]
        },
        {
          "output_type": "display_data",
          "data": {
            "application/javascript": [
              "\n",
              "        if (typeof window.interactive_beam_jquery == 'undefined') {\n",
              "          var jqueryScript = document.createElement('script');\n",
              "          jqueryScript.src = 'https://code.jquery.com/jquery-3.4.1.slim.min.js';\n",
              "          jqueryScript.type = 'text/javascript';\n",
              "          jqueryScript.onload = function() {\n",
              "            var datatableScript = document.createElement('script');\n",
              "            datatableScript.src = 'https://cdn.datatables.net/1.10.20/js/jquery.dataTables.min.js';\n",
              "            datatableScript.type = 'text/javascript';\n",
              "            datatableScript.onload = function() {\n",
              "              window.interactive_beam_jquery = jQuery.noConflict(true);\n",
              "              window.interactive_beam_jquery(document).ready(function($){\n",
              "                \n",
              "              });\n",
              "            }\n",
              "            document.head.appendChild(datatableScript);\n",
              "          };\n",
              "          document.head.appendChild(jqueryScript);\n",
              "        } else {\n",
              "          window.interactive_beam_jquery(document).ready(function($){\n",
              "            \n",
              "          });\n",
              "        }"
            ]
          },
          "metadata": {}
        },
        {
          "output_type": "stream",
          "name": "stderr",
          "text": [
            "WARNING:apache_beam.options.pipeline_options:Discarding unparseable args: ['-f', '/root/.local/share/jupyter/runtime/kernel-ec12af9c-1256-4c4a-8b93-6d2a9912b75d.json']\n"
          ]
        }
      ]
    },
    {
      "cell_type": "code",
      "source": [
        "# Cell 6: Windowing and Aggregation\n",
        "player_scores = (\n",
        "    clean_logs\n",
        "    | \"ExtractPlayerDamage\" >> beam.Map(\n",
        "        lambda log: (log['player_id'], log['damage']) # Map to (K, V)\n",
        "    )\n",
        "    | \"ApplyWindowing\" >> beam.WindowInto(FixedWindows(10)) # 10-second windows\n",
        "    | \"SumPerPlayerPerWindow\" >> beam.CombinePerKey(sum)\n",
        ")"
      ],
      "metadata": {
        "id": "87ztg8puKszI"
      },
      "execution_count": 5,
      "outputs": []
    },
    {
      "cell_type": "code",
      "source": [
        "# Cell 7: Add our \"sinks\" (outputs) to print results\n",
        "# We can add labels to our prints to see what's what\n",
        "_ = pvp_logs | \"PrintPvP\" >> beam.Map(lambda x: print(f\"PVP_LOG: {x}\"))\n",
        "_ = pvm_logs | \"PrintPvM\" >> beam.Map(lambda x: print(f\"PVM_LOG: {x}\"))\n",
        "_ = player_scores | \"PrintScores\" >> beam.Map(lambda x: print(f\"SCORES_PER_WINDOW: {x}\"))\n",
        "\n",
        "# Run the pipeline!\n",
        "print(\"--- Running Pipeline ---\")\n",
        "result = pipeline.run()\n",
        "result.wait_until_finish()\n",
        "print(\"--- Pipeline Finished ---\")"
      ],
      "metadata": {
        "colab": {
          "base_uri": "https://localhost:8080/"
        },
        "id": "ooVSalVVKvpz",
        "outputId": "b778389e-17fe-461c-fa42-792eae3a6a90"
      },
      "execution_count": 6,
      "outputs": [
        {
          "output_type": "stream",
          "name": "stderr",
          "text": [
            "WARNING:apache_beam.options.pipeline_options:Unparseable argument: -f\n",
            "WARNING:apache_beam.options.pipeline_options:Unparseable argument: /root/.local/share/jupyter/runtime/kernel-ec12af9c-1256-4c4a-8b93-6d2a9912b75d.json\n",
            "WARNING:apache_beam.options.pipeline_options:Discarding flag -f, single dash flags are not allowed.\n",
            "WARNING:apache_beam.options.pipeline_options:Discarding unparseable args: ['-f', '/root/.local/share/jupyter/runtime/kernel-ec12af9c-1256-4c4a-8b93-6d2a9912b75d.json']\n",
            "WARNING:apache_beam.options.pipeline_options:Discarding unparseable args: ['-f', '/root/.local/share/jupyter/runtime/kernel-ec12af9c-1256-4c4a-8b93-6d2a9912b75d.json']\n"
          ]
        },
        {
          "output_type": "stream",
          "name": "stdout",
          "text": [
            "--- Running Pipeline ---\n",
            "PVP_LOG: {'event_type': 'pvp', 'player_id': 'player_1', 'damage': 15}\n",
            "PVM_LOG: {'event_type': 'pvm', 'player_id': 'player_2', 'damage': 50}\n",
            "PVP_LOG: {'event_type': 'pvp', 'player_id': 'player_3', 'damage': 75}\n",
            "PVM_LOG: {'event_type': 'pvm', 'player_id': 'player_1', 'damage': 25}\n",
            "PVP_LOG: {'event_type': 'pvp', 'player_id': 'player_2', 'damage': 150}\n",
            "PVM_LOG: {'event_type': 'pvm', 'player_id': 'player_3', 'damage': 10}\n",
            "PVP_LOG: {'event_type': 'pvp', 'player_id': 'player_1', 'damage': 30}\n",
            "SCORES_PER_WINDOW: ('player_1', 40)\n",
            "SCORES_PER_WINDOW: ('player_1', 30)\n",
            "SCORES_PER_WINDOW: ('player_2', 50)\n",
            "SCORES_PER_WINDOW: ('player_2', 150)\n",
            "SCORES_PER_WINDOW: ('player_3', 75)\n",
            "SCORES_PER_WINDOW: ('player_3', 10)\n",
            "--- Pipeline Finished ---\n"
          ]
        }
      ]
    }
  ]
}